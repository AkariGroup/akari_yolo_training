{
  "cells": [
    {
      "cell_type": "markdown",
      "metadata": {
        "id": "m_2aqD9EP7BO"
      },
      "source": [
        "# オリジナル画像認識モデル生成チュートリアル(YoloV7版)\n",
        "\n",
        "このチュートリアルでは、オリジナルのアノテーション済み画像を使って、物体検出モデルの学習を行います。  \n",
        "下記をベースに作成されています。  \n",
        "https://github.com/luxonis/depthai-ml-training/blob/master/colab-notebooks/YoloV7_training.ipynb\n",
        "\n"
      ]
    },
    {
      "cell_type": "markdown",
      "metadata": {
        "id": "oihUaxEzO_Q4"
      },
      "source": [
        "# 1. 初期設定  \n",
        "上部メニューからランタイム→「ランタイムのタイプを変更」→「GPU」を選択します。\n",
        "\n"
      ]
    },
    {
      "cell_type": "markdown",
      "metadata": {
        "id": "c8CzKOv-WkLV"
      },
      "source": [
        "# 2. 環境構築"
      ]
    },
    {
      "cell_type": "markdown",
      "metadata": {
        "id": "4l2b31StPUHI"
      },
      "source": [
        "## 2.1 YoloV7のクローン\n",
        "\n",
        "YoloV7をクローンします。"
      ]
    },
    {
      "cell_type": "code",
      "execution_count": null,
      "metadata": {
        "id": "cEDcWCFlMmzc"
      },
      "outputs": [],
      "source": [
        "%cd /content/\n",
        "!git clone https://github.com/WongKinYiu/yolov7.git\n",
        "%cd yolov7/"
      ]
    },
    {
      "cell_type": "markdown",
      "metadata": {
        "id": "WK-h66ifdhLV"
      },
      "source": [
        "## 2.2 YoloV7のdependencyのインストール\n",
        "YoloV7を動かすのに必要なdependencyのインストールを行います。"
      ]
    },
    {
      "cell_type": "code",
      "execution_count": null,
      "metadata": {
        "id": "Z7rEpSboRibz"
      },
      "outputs": [],
      "source": [
        "!pip install -U -r requirements.txt  # install dependencies"
      ]
    },
    {
      "cell_type": "markdown",
      "metadata": {
        "id": "mh_HTNMdLReC"
      },
      "source": [
        "#3. データセットの準備"
      ]
    },
    {
      "cell_type": "markdown",
      "metadata": {
        "id": "hPVANnM4QUWT"
      },
      "source": [
        "## 3.1 Google Driveのマウント\n",
        "Colab上にGoogle Driveをマウントします。  \n",
        "Google Driveの接続許可を求めるウィンドウが開くので、許可して接続してください。  \n",
        "Google Driveの中身は`/content/gdrive`に表示されます。"
      ]
    },
    {
      "cell_type": "code",
      "execution_count": null,
      "metadata": {
        "id": "KPahiXuPNQwX"
      },
      "outputs": [],
      "source": [
        "#mount your google drive.\n",
        "#it will be visible in the file navigator on the left of this notebook\n",
        "#there should be a folder in your drive with your data\n",
        "from google.colab import drive\n",
        "drive.mount('/content/gdrive')"
      ]
    },
    {
      "cell_type": "markdown",
      "metadata": {
        "id": "a2ZtJqdRsV0A"
      },
      "source": [
        "## 3.2 データフォルダの指定\n",
        "下記トレーニングフォルダ、バリデーションフォルダ、テストフォルダーの3箇所のパスを指定します。\n",
        "**下記のフォルダ名を自身のGoogle Driveのパスに合わせて変更して下さい。**  \n",
        "**画像データ(.jpg)とアノテーションデータ(YOLO形式の.txt)をトレーニングフォルダに入れます**。  \n",
        "**classes.txtを親ディレクトリに入れます。**  \n",
        "**テストフォルダには最終テスト用の画像を数枚入れます。こちらはアノテーションの必要はありません。**\n"
      ]
    },
    {
      "cell_type": "code",
      "execution_count": null,
      "metadata": {
        "id": "nRpKXc_qLZ5c"
      },
      "outputs": [],
      "source": [
        "#copy files from gdrive to colab drive. this takes a few minutes, depending on the number of files.\n",
        "#Go on the file explorer on the left of this notebook and access your gdrive. find the folders\n",
        "#with your train, test and final_test images.\n",
        "#Right click on each and copy the path. paste it btw the first \" \" in the corresponding lines  \n",
        "import os\n",
        "!mkdir \"/content/yolov7/dataset/\"\n",
        "# GoogleDriveのyolov7 datasetのフォルダ。\n",
        "YOUR_GDRIVE_PATH =\"/content/gdrive/MyDrive/object_detection\"\n",
        "#トレーニングフォルダ。左のパスを自身のGoogle Driveのトレーニングフォルダのパスに変更\n",
        "TRAIN_DIR = YOUR_GDRIVE_PATH +\"/images/train\"\n",
        "#テストフォルダ。左のパスを自身のGoogle Driveのトレーニングフォルダのパスに変更\n",
        "TEST_DIR = YOUR_GDRIVE_PATH + \"/images/test\"\n",
        "# クラスファイルのパス\n",
        "CLASS_FILE = TRAIN_DIR + \"/classes.txt\"\n",
        "##出力フォルダのパス\n",
        "OUTPUT_DIR = YOUR_GDRIVE_PATH + \"/output\"\n",
        "!mkdir {OUTPUT_DIR}\n",
        "\n",
        "##学習で使うデータフォルダ。\n",
        "DATA_DIR = \"/content/yolov7/dataset\"\n",
        "!mkdir {DATA_DIR}\n",
        "!cp -r {TEST_DIR} {DATA_DIR}"
      ]
    },
    {
      "cell_type": "markdown",
      "metadata": {
        "id": "I3O1b2ZEZyGA"
      },
      "source": [
        "## 3.3 トレーニングデータの振り分け\n",
        "トレーニングディレクトリのファイルの8割を学習に、2割をバリデーション用に振り分けます。"
      ]
    },
    {
      "cell_type": "code",
      "execution_count": null,
      "metadata": {
        "id": "BJieAq9IywqQ"
      },
      "outputs": [],
      "source": [
        "import glob\n",
        "import shutil\n",
        "import random\n",
        "\n",
        "# 学習データの割合(Percentage of training data)\n",
        "train_ratio = 0.8\n",
        "\n",
        "train_directory = DATA_DIR + \"/train\"\n",
        "%rm -rf {train_directory}\n",
        "train_images_directory = train_directory + \"/images\"\n",
        "train_labels_directory = train_directory + \"/labels\"\n",
        "valid_directory = DATA_DIR + \"/valid\"\n",
        "%rm -rf {valid_directory}\n",
        "valid_images_directory = valid_directory + \"/images\"\n",
        "valid_labels_directory = valid_directory + \"/labels\"\n",
        "!mkdir {train_directory}\n",
        "!mkdir {train_directory}/images\n",
        "!mkdir {train_directory}/labels\n",
        "!mkdir {valid_directory}\n",
        "!mkdir {valid_directory}/images\n",
        "!mkdir {valid_directory}/labels\n",
        "test_directory = DATA_DIR + \"/test\"\n",
        "\n",
        "# コピー元ファイルリスト取得(Get copy source file list)\n",
        "annotation_list = sorted(glob.glob(TRAIN_DIR + '/*.txt'))\n",
        "image_list = sorted(glob.glob(TRAIN_DIR + '/*.jpg'))\n",
        "\n",
        "file_num = len(annotation_list)\n",
        "# インデックスシャッフル(shuffle)\n",
        "index_list = list(range(file_num - 1))\n",
        "random.shuffle(index_list)\n",
        "\n",
        "for count, index in enumerate(index_list):\n",
        "    if count < int(file_num * train_ratio):\n",
        "        # 学習用データ(Training Data)\n",
        "        shutil.copy2(annotation_list[index], train_labels_directory)\n",
        "        shutil.copy2(image_list[index], train_images_directory)\n",
        "    else:\n",
        "        # 検証用データ(Validation Data)\n",
        "        shutil.copy2(annotation_list[index], valid_labels_directory)\n",
        "        shutil.copy2(image_list[index], valid_images_directory)"
      ]
    },
    {
      "cell_type": "markdown",
      "metadata": {
        "id": "ZVLCuBQQiX4x"
      },
      "source": [
        "## 3.4 ファイルチェック\n",
        "下記を実行すると、トレーニングフォルダ内のファイル一覧が表示されます。\n",
        "トレーニングフォルダに入れていた画像の8割が正しくコピーされているか確認してください。"
      ]
    },
    {
      "cell_type": "code",
      "execution_count": null,
      "metadata": {
        "id": "pHUcVDSEfuCE"
      },
      "outputs": [],
      "source": [
        "# quick check for training data files. you can also browse to the object_detection_demo_flows\n",
        "# on the left and see if they were copied\n",
        "!ls {train_images_directory}"
      ]
    },
    {
      "cell_type": "markdown",
      "metadata": {
        "id": "wgMizEPzB5Bp"
      },
      "source": [
        "# 4.学習の準備"
      ]
    },
    {
      "cell_type": "markdown",
      "metadata": {
        "id": "evOr50vLXbTA"
      },
      "source": [
        "## 4.1 学習用の設定ファイルの作成"
      ]
    },
    {
      "cell_type": "code",
      "execution_count": null,
      "metadata": {
        "id": "rocayMj1k7yv"
      },
      "outputs": [],
      "source": [
        "import yaml\n",
        "\n",
        "f = open(CLASS_FILE)\n",
        "class_list = f.read().split(\"\\n\")\n",
        "class_list = [a for a in class_list if a != '']\n",
        "data = {}\n",
        "data[\"train\"] = DATA_DIR + \"/train\"\n",
        "data[\"val\"] = DATA_DIR + \"/valid\"\n",
        "data[\"test\"] = DATA_DIR + \"/test\"\n",
        "\n",
        "data[\"nc\"] = len(class_list)\n",
        "data[\"names\"] = class_list\n",
        "print(data)\n",
        "with open('./data/yolov7_dataset.yaml', 'w') as file:\n",
        "    yaml.dump(data, file)"
      ]
    },
    {
      "cell_type": "markdown",
      "metadata": {
        "id": "PUCY-sUnCCYL"
      },
      "source": [
        "## 4.2 学習済みモデルの重みの取得\n",
        "\n",
        "今回はYolov7-tinyを使用します。"
      ]
    },
    {
      "cell_type": "code",
      "execution_count": null,
      "metadata": {
        "id": "jwGOsMAATkrZ"
      },
      "outputs": [],
      "source": [
        "!wget https://github.com/WongKinYiu/yolov7/releases/download/v0.1/yolov7-tiny.pt"
      ]
    },
    {
      "cell_type": "markdown",
      "metadata": {
        "id": "I6E-WvXcjGH5"
      },
      "source": [
        "## 4.3 コンフィグファイルの作成\n",
        "[`yolov7/cfg/training/yolov7-tiny.yaml`](https://github.com/WongKinYiu/yolov7/blob/main/cfg/training/yolov7-tiny.yaml)をベースにコンフィグファイルを作成します。  \n",
        "classes.txtを元に、クラス数(=nc)のみ書き換えを行います。"
      ]
    },
    {
      "cell_type": "code",
      "execution_count": null,
      "metadata": {
        "id": "s_01ggODZ_8y"
      },
      "outputs": [],
      "source": [
        "import yaml\n",
        "\n",
        "with open('./data/yolov7_dataset.yaml') as file:\n",
        "    obj = yaml.safe_load(file)\n",
        "    nc = obj[\"nc\"]\n",
        "  \n",
        "with open('/content/yolov7/cfg/training/yolov7-tiny.yaml') as param_file:\n",
        "    param = yaml.safe_load(param_file)\n",
        "    param[\"nc\"] = nc\n",
        "\n",
        "with open('/content/yolov7/cfg/training/yolov7-tiny-updated.yaml', 'w') as file:\n",
        "    yaml.dump(param, file, default_flow_style=True)"
      ]
    },
    {
      "cell_type": "markdown",
      "metadata": {
        "id": "vNdWkH45ZKRP"
      },
      "source": [
        "#5.学習の実行"
      ]
    },
    {
      "cell_type": "markdown",
      "metadata": {
        "id": "EJQ61aYpZOmn"
      },
      "source": [
        "##5.1 学習の実行\n",
        "学習を行います。  \n",
        "--epochsの値を変えることで、学習回数を変更することができます。増やすほど学習に時間がかかります。"
      ]
    },
    {
      "cell_type": "code",
      "execution_count": null,
      "metadata": {
        "id": "cUtWuSlBS-BU"
      },
      "outputs": [],
      "source": [
        "%rm -rf /content/yolov7/runs/train/result/*\n",
        "%rm -rf /content/yolov7/runs/test/result/*\n",
        "!python3 train.py --epochs 300 --workers 8 --device 0 --batch-size 16 --data data/yolov7_dataset.yaml --img 640 640 --cfg /content/yolov7/cfg/training/yolov7-tiny-updated.yaml --weights 'yolov7-tiny.pt' --hyp data/hyp.scratch.tiny.yaml --name result --exist-ok"
      ]
    },
    {
      "cell_type": "markdown",
      "metadata": {
        "id": "_jdnt1Z-jGG8"
      },
      "source": [
        "# 6.バリデーション結果の確認"
      ]
    },
    {
      "cell_type": "markdown",
      "metadata": {
        "id": "KRUfBQMRFfXE"
      },
      "source": [
        "## 6.1 validation結果のグラフを表示する\n",
        "validation結果のplotを表示します。  \n",
        "Box：Bounding Boxの予測がオブジェクトを正確にカバーしないことによる損失。  \n",
        "Objectness：ボックスとオブジェクトのIoUの予測が間違っていたことによる損失。  \n",
        "Classification：そのボックス内のオブジェクトについて、正しいクラスは'1'、他のすべてのクラスは'0'と予測することから逸脱することによる損失。  \n",
        "Precision: 適合率。検出結果の中に、適合しないものが入っていない割合  \n",
        "P = tp / (tp + fp)  \n",
        "Recall: 再現率。すべてのデータのうち、漏れなく検出できた割合\n",
        "R = tp / (tp + fn)  \n",
        "mAP = Mean Average Precision、平均適合率の平均。学習が収束しているかどうかの目安にする。  \n"
      ]
    },
    {
      "cell_type": "code",
      "execution_count": null,
      "metadata": {
        "id": "X_rgCuULEjGq"
      },
      "outputs": [],
      "source": [
        "import glob\n",
        "from IPython.display import Image\n",
        "from IPython.display import display_png\n",
        "\n",
        "display_png(Image('/content/yolov7/runs/train/result/results.png'))\n"
      ]
    },
    {
      "cell_type": "markdown",
      "metadata": {
        "id": "hRJFQcyhaHG7"
      },
      "source": [
        "#7. テストの実行"
      ]
    },
    {
      "cell_type": "markdown",
      "metadata": {
        "id": "RX3Eiqm-v9iB"
      },
      "source": [
        "#7.1 テストの実行\n",
        "学習させたモデルを用いてtestディレクトリに入れたファイルを用いてテストを行い、結果を表示します。"
      ]
    },
    {
      "cell_type": "code",
      "execution_count": null,
      "metadata": {
        "id": "MOAT8jqjjjYK"
      },
      "outputs": [],
      "source": [
        "!python test.py --data data/yolov7_dataset.yaml --iou-thres 0.65 --device 0 --weights runs/train/result/weights/best.pt --task test --name result --exist-ok"
      ]
    },
    {
      "cell_type": "markdown",
      "metadata": {
        "id": "0mpGu8pOcxD4"
      },
      "source": [
        "## 7.2 テスト画像による推論の実行\n",
        "学習させたモデルに対して、testディレクトリに入れたファイルを用いて推論を実施し、結果画像を出力します。"
      ]
    },
    {
      "cell_type": "code",
      "execution_count": null,
      "metadata": {
        "id": "kTS_mBrOaJYW"
      },
      "outputs": [],
      "source": [
        "import glob\n",
        "from IPython.display import Image\n",
        "from IPython.display import display_jpeg\n",
        "\n",
        "print(image_list)\n",
        "!python detect.py --weights runs/train/result/weights/best.pt --img-size 640 --source 'dataset/test' --name result --exist-ok\n",
        "\n",
        "results_path = sorted(glob.glob(\"runs/detect/result/*.jpg\"))\n",
        "for image_path in results_path:\n",
        "  print(image_path)\n",
        "  display_jpeg(Image(image_path))"
      ]
    },
    {
      "cell_type": "markdown",
      "metadata": {
        "id": "a_9XT5rbdBoy"
      },
      "source": [
        "# 8.モデルのダウンロード"
      ]
    },
    {
      "cell_type": "markdown",
      "metadata": {
        "id": "qRtfYSb-dE7y"
      },
      "source": [
        "## 8.1 モデルのダウンロード\n",
        "学習結果のpytorchモデルをダウンロードします。  \n",
        "実行すると、ダウンロードウインドウが開くので、任意の場所にダウンロードしてください。"
      ]
    },
    {
      "cell_type": "code",
      "execution_count": null,
      "metadata": {
        "id": "xBk7o7HCO4e8"
      },
      "outputs": [],
      "source": [
        "from google.colab import files\n",
        "import os\n",
        "\n",
        "!cp \"/content/yolov7/runs/train/result/weights/best.pt\" {OUTPUT_DIR}/yolov7.pt\n",
        "files.download(OUTPUT_DIR + \"/yolov7.pt\") "
      ]
    },
    {
      "cell_type": "markdown",
      "metadata": {
        "id": "qj5j-ElDFCho"
      },
      "source": [
        "以上で学習は終了です。  \n",
        "マニュアルに戻り、次の手順に進んでください。"
      ]
    }
  ],
  "metadata": {
    "accelerator": "GPU",
    "colab": {
      "provenance": []
    },
    "gpuClass": "standard",
    "kernelspec": {
      "display_name": "Python 3 (ipykernel)",
      "language": "python",
      "name": "python3"
    },
    "language_info": {
      "codemirror_mode": {
        "name": "ipython",
        "version": 3
      },
      "file_extension": ".py",
      "mimetype": "text/x-python",
      "name": "python",
      "nbconvert_exporter": "python",
      "pygments_lexer": "ipython3",
      "version": "3.8.12"
    }
  },
  "nbformat": 4,
  "nbformat_minor": 0
}